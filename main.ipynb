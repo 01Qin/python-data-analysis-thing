{
 "cells": [
  {
   "cell_type": "code",
   "metadata": {
    "ExecuteTime": {
     "end_time": "2025-04-04T17:44:14.043254Z",
     "start_time": "2025-04-04T17:44:12.640331Z"
    }
   },
   "source": [
    "%pip install pandas numpy plotly kagglehub"
   ],
   "outputs": [
    {
     "name": "stdout",
     "output_type": "stream",
     "text": [
      "Requirement already satisfied: pandas in /opt/anaconda3/lib/python3.12/site-packages (2.2.3)\r\n",
      "Requirement already satisfied: numpy in /opt/anaconda3/lib/python3.12/site-packages (1.26.4)\r\n",
      "Requirement already satisfied: plotly in /opt/anaconda3/lib/python3.12/site-packages (5.22.0)\r\n",
      "Requirement already satisfied: kagglehub in /opt/anaconda3/lib/python3.12/site-packages (0.2.7)\r\n",
      "Requirement already satisfied: python-dateutil>=2.8.2 in /opt/anaconda3/lib/python3.12/site-packages (from pandas) (2.9.0.post0)\r\n",
      "Requirement already satisfied: pytz>=2020.1 in /opt/anaconda3/lib/python3.12/site-packages (from pandas) (2024.1)\r\n",
      "Requirement already satisfied: tzdata>=2022.7 in /opt/anaconda3/lib/python3.12/site-packages (from pandas) (2023.3)\r\n",
      "Requirement already satisfied: tenacity>=6.2.0 in /opt/anaconda3/lib/python3.12/site-packages (from plotly) (8.2.2)\r\n",
      "Requirement already satisfied: packaging in /opt/anaconda3/lib/python3.12/site-packages (from plotly) (23.2)\r\n",
      "Requirement already satisfied: requests in /opt/anaconda3/lib/python3.12/site-packages (from kagglehub) (2.32.2)\r\n",
      "Requirement already satisfied: tqdm in /opt/anaconda3/lib/python3.12/site-packages (from kagglehub) (4.66.4)\r\n",
      "Requirement already satisfied: six>=1.5 in /opt/anaconda3/lib/python3.12/site-packages (from python-dateutil>=2.8.2->pandas) (1.16.0)\r\n",
      "Requirement already satisfied: charset-normalizer<4,>=2 in /opt/anaconda3/lib/python3.12/site-packages (from requests->kagglehub) (2.0.4)\r\n",
      "Requirement already satisfied: idna<4,>=2.5 in /opt/anaconda3/lib/python3.12/site-packages (from requests->kagglehub) (3.7)\r\n",
      "Requirement already satisfied: urllib3<3,>=1.21.1 in /opt/anaconda3/lib/python3.12/site-packages (from requests->kagglehub) (2.2.2)\r\n",
      "Requirement already satisfied: certifi>=2017.4.17 in /opt/anaconda3/lib/python3.12/site-packages (from requests->kagglehub) (2025.1.31)\r\n",
      "Note: you may need to restart the kernel to use updated packages.\n"
     ]
    }
   ],
   "execution_count": 1
  },
  {
   "metadata": {},
   "cell_type": "markdown",
   "source": "## 📌 1. Loading the Dataset  "
  },
  {
   "metadata": {
    "ExecuteTime": {
     "end_time": "2025-04-04T17:44:14.427118Z",
     "start_time": "2025-04-04T17:44:14.058274Z"
    }
   },
   "cell_type": "code",
   "source": [
    "import kagglehub\n",
    "\n",
    "data_root = kagglehub.dataset_download(\"andrewkronser/cve-common-vulnerabilities-and-exposures\")"
   ],
   "outputs": [
    {
     "name": "stdout",
     "output_type": "stream",
     "text": [
      "Warning: Looks like you're using an outdated `kagglehub` version, please consider updating (latest version: 0.3.11)\n"
     ]
    }
   ],
   "execution_count": 2
  },
  {
   "metadata": {},
   "cell_type": "markdown",
   "source": [
    ">## 💡 **Interpretation**: \n",
    "###  **mod_date: The date the entry was last modified.**\n",
    "### **pub_date: The date the entry was published.**\n",
    "### **cvss: Common Vulnerability Scoring System (CVSS) score, a measure of the severity of a vulnerability.**\n",
    "### **cwe_code: Common Weakness Enumeration (CWE) code, identifying the type of weakness.**\n",
    "### **cwe_name: The name associated with the CWE code.**\n",
    "### **summary: A text summary of the vulnerability.**\n",
    "### **access_authentication.**\n",
    "### **access_complexity: how difficult it is to execute.**\n",
    "### **access_vector: how the attack is performed, aka via network or locally.**"
   ]
  },
  {
   "metadata": {},
   "cell_type": "markdown",
   "source": ""
  },
  {
   "cell_type": "code",
   "metadata": {
    "ExecuteTime": {
     "end_time": "2025-04-04T17:45:19.173318Z",
     "start_time": "2025-04-04T17:45:16.986190Z"
    }
   },
   "source": [
    "import pandas as pd\n",
    "\n",
    "df = pd.read_csv(path_join(data_root, 'cve.csv'), header=0, index_col=0)\n",
    "df.mod_date = pd.to_datetime(df.mod_date)\n",
    "df.pub_date = pd.to_datetime(df.pub_date)\n",
    "\n",
    "df.info()"
   ],
   "outputs": [
    {
     "ename": "NameError",
     "evalue": "name 'path_join' is not defined",
     "output_type": "error",
     "traceback": [
      "\u001B[0;31m---------------------------------------------------------------------------\u001B[0m",
      "\u001B[0;31mNameError\u001B[0m                                 Traceback (most recent call last)",
      "Cell \u001B[0;32mIn[4], line 3\u001B[0m\n\u001B[1;32m      1\u001B[0m \u001B[38;5;28;01mimport\u001B[39;00m \u001B[38;5;21;01mpandas\u001B[39;00m \u001B[38;5;28;01mas\u001B[39;00m \u001B[38;5;21;01mpd\u001B[39;00m\n\u001B[0;32m----> 3\u001B[0m df \u001B[38;5;241m=\u001B[39m pd\u001B[38;5;241m.\u001B[39mread_csv(path_join(data_root, \u001B[38;5;124m'\u001B[39m\u001B[38;5;124mcve.csv\u001B[39m\u001B[38;5;124m'\u001B[39m), header\u001B[38;5;241m=\u001B[39m\u001B[38;5;241m0\u001B[39m, index_col\u001B[38;5;241m=\u001B[39m\u001B[38;5;241m0\u001B[39m)\n\u001B[1;32m      4\u001B[0m df\u001B[38;5;241m.\u001B[39mmod_date \u001B[38;5;241m=\u001B[39m pd\u001B[38;5;241m.\u001B[39mto_datetime(df\u001B[38;5;241m.\u001B[39mmod_date)\n\u001B[1;32m      5\u001B[0m df\u001B[38;5;241m.\u001B[39mpub_date \u001B[38;5;241m=\u001B[39m pd\u001B[38;5;241m.\u001B[39mto_datetime(df\u001B[38;5;241m.\u001B[39mpub_date)\n",
      "\u001B[0;31mNameError\u001B[0m: name 'path_join' is not defined"
     ]
    }
   ],
   "execution_count": 4
  },
  {
   "metadata": {},
   "cell_type": "markdown",
   "source": "## 🧼 2. Handling Missing Data"
  },
  {
   "metadata": {},
   "cell_type": "code",
   "outputs": [],
   "execution_count": null,
   "source": [
    "missing_counts = df.isnull().sum()\n",
    "print(\"Missing Data Count:\\n\", missing_counts)"
   ]
  },
  {
   "metadata": {},
   "cell_type": "markdown",
   "source": [
    "## **3. Probability Distribution & Descriptive Stats**\n",
    "\n",
    "### 🎯 Expected Value (Mean)"
   ]
  },
  {
   "metadata": {},
   "cell_type": "code",
   "outputs": [],
   "execution_count": null,
   "source": [
    "\n",
    "# Min and Max of DataFrame columns\n",
    "print(\"Minimum values in each column:\")\n",
    "print(df.min(numeric_only=True))\n",
    "\n",
    "print(\"\\nMaximum values in each column:\")\n",
    "print(df.max(numeric_only=True))\n"
   ]
  },
  {
   "metadata": {},
   "cell_type": "markdown",
   "source": "### 📈 Variance and Standard Deviation"
  },
  {
   "metadata": {},
   "cell_type": "code",
   "outputs": [],
   "execution_count": null,
   "source": ""
  },
  {
   "metadata": {},
   "cell_type": "markdown",
   "source": [
    "\n",
    "\n",
    "\n",
    "\n",
    "### 📊 Distribution Shapes"
   ]
  },
  {
   "metadata": {},
   "cell_type": "code",
   "outputs": [],
   "execution_count": null,
   "source": ""
  },
  {
   "metadata": {},
   "cell_type": "markdown",
   "source": "## 📊 Visualizing Relationships\n"
  },
  {
   "metadata": {
    "ExecuteTime": {
     "end_time": "2025-04-04T17:44:14.631761Z",
     "start_time": "2025-03-28T20:39:52.378533Z"
    }
   },
   "cell_type": "code",
   "source": "",
   "outputs": [],
   "execution_count": null
  }
 ],
 "metadata": {
  "kernelspec": {
   "display_name": "base",
   "language": "python",
   "name": "python3"
  },
  "language_info": {
   "codemirror_mode": {
    "name": "ipython",
    "version": 3
   },
   "file_extension": ".py",
   "mimetype": "text/x-python",
   "name": "python",
   "nbconvert_exporter": "python",
   "pygments_lexer": "ipython3",
   "version": "3.12.7"
  }
 },
 "nbformat": 4,
 "nbformat_minor": 2
}
