{
 "cells": [
  {
   "cell_type": "code",
   "metadata": {
    "ExecuteTime": {
     "end_time": "2025-04-05T14:30:46.613497Z",
     "start_time": "2025-04-05T14:30:45.015865Z"
    }
   },
   "source": [
    "%pip install pandas numpy plotly kagglehub"
   ],
   "outputs": [
    {
     "name": "stdout",
     "output_type": "stream",
     "text": [
      "Requirement already satisfied: pandas in /opt/anaconda3/lib/python3.12/site-packages (2.2.3)\r\n",
      "Requirement already satisfied: numpy in /opt/anaconda3/lib/python3.12/site-packages (1.26.4)\r\n",
      "Requirement already satisfied: plotly in /opt/anaconda3/lib/python3.12/site-packages (5.22.0)\r\n",
      "Requirement already satisfied: kagglehub in /opt/anaconda3/lib/python3.12/site-packages (0.2.7)\r\n",
      "Requirement already satisfied: python-dateutil>=2.8.2 in /opt/anaconda3/lib/python3.12/site-packages (from pandas) (2.9.0.post0)\r\n",
      "Requirement already satisfied: pytz>=2020.1 in /opt/anaconda3/lib/python3.12/site-packages (from pandas) (2024.1)\r\n",
      "Requirement already satisfied: tzdata>=2022.7 in /opt/anaconda3/lib/python3.12/site-packages (from pandas) (2023.3)\r\n",
      "Requirement already satisfied: tenacity>=6.2.0 in /opt/anaconda3/lib/python3.12/site-packages (from plotly) (8.2.2)\r\n",
      "Requirement already satisfied: packaging in /opt/anaconda3/lib/python3.12/site-packages (from plotly) (23.2)\r\n",
      "Requirement already satisfied: requests in /opt/anaconda3/lib/python3.12/site-packages (from kagglehub) (2.32.2)\r\n",
      "Requirement already satisfied: tqdm in /opt/anaconda3/lib/python3.12/site-packages (from kagglehub) (4.66.4)\r\n",
      "Requirement already satisfied: six>=1.5 in /opt/anaconda3/lib/python3.12/site-packages (from python-dateutil>=2.8.2->pandas) (1.16.0)\r\n",
      "Requirement already satisfied: charset-normalizer<4,>=2 in /opt/anaconda3/lib/python3.12/site-packages (from requests->kagglehub) (2.0.4)\r\n",
      "Requirement already satisfied: idna<4,>=2.5 in /opt/anaconda3/lib/python3.12/site-packages (from requests->kagglehub) (3.7)\r\n",
      "Requirement already satisfied: urllib3<3,>=1.21.1 in /opt/anaconda3/lib/python3.12/site-packages (from requests->kagglehub) (2.2.2)\r\n",
      "Requirement already satisfied: certifi>=2017.4.17 in /opt/anaconda3/lib/python3.12/site-packages (from requests->kagglehub) (2025.1.31)\r\n",
      "Note: you may need to restart the kernel to use updated packages.\n"
     ]
    }
   ],
   "execution_count": 41
  },
  {
   "metadata": {},
   "cell_type": "markdown",
   "source": "## 📌 1. Loading the Dataset  "
  },
  {
   "metadata": {
    "ExecuteTime": {
     "end_time": "2025-04-05T14:30:46.619506Z",
     "start_time": "2025-04-05T14:30:46.617336Z"
    }
   },
   "cell_type": "code",
   "source": [
    "import pandas as pd\n",
    "import numpy as np\n",
    "import plotly.express as px\n",
    "import kagglehub\n",
    "from os.path import join as path_join"
   ],
   "outputs": [],
   "execution_count": 42
  },
  {
   "metadata": {
    "ExecuteTime": {
     "end_time": "2025-04-05T14:30:46.956520Z",
     "start_time": "2025-04-05T14:30:46.630619Z"
    }
   },
   "cell_type": "code",
   "source": "data_root = kagglehub.dataset_download(\"andrewkronser/cve-common-vulnerabilities-and-exposures\")",
   "outputs": [
    {
     "name": "stdout",
     "output_type": "stream",
     "text": [
      "Warning: Looks like you're using an outdated `kagglehub` version, please consider updating (latest version: 0.3.11)\n"
     ]
    }
   ],
   "execution_count": 43
  },
  {
   "metadata": {},
   "cell_type": "markdown",
   "source": [
    ">## 💡 **Interpretation**: \n",
    "-   **mod_date: The date the entry was last modified.**\n",
    "-  **pub_date: The date the entry was published.**\n",
    "-  **cvss: Common Vulnerability Scoring System (CVSS) score, a measure of the severity of a vulnerability.**\n",
    "-  **cwe_code: Common Weakness Enumeration (CWE) code, identifying the type of weakness.**\n",
    "-  **cwe_name: The name associated with the CWE code.**\n",
    "-  **summary: A text summary of the vulnerability.**\n",
    "-  **access_authentication.**\n",
    "-  **access_complexity: how difficult it is to execute.**\n",
    "-  **access_vector: how the attack is performed, aka via network or locally.**"
   ]
  },
  {
   "metadata": {},
   "cell_type": "markdown",
   "source": ""
  },
  {
   "cell_type": "code",
   "metadata": {
    "ExecuteTime": {
     "end_time": "2025-04-05T14:30:47.332995Z",
     "start_time": "2025-04-05T14:30:46.976373Z"
    }
   },
   "source": [
    "df = pd.read_csv(path_join(data_root, 'cve.csv'), header=0, index_col=0)\n",
    "df.mod_date = pd.to_datetime(df.mod_date)\n",
    "df.pub_date = pd.to_datetime(df.pub_date)\n",
    "\n",
    "df.info()"
   ],
   "outputs": [
    {
     "name": "stdout",
     "output_type": "stream",
     "text": [
      "<class 'pandas.core.frame.DataFrame'>\n",
      "Index: 89660 entries, CVE-2019-16548 to CVE-2007-3004\n",
      "Data columns (total 12 columns):\n",
      " #   Column                  Non-Null Count  Dtype         \n",
      "---  ------                  --------------  -----         \n",
      " 0   mod_date                89660 non-null  datetime64[ns]\n",
      " 1   pub_date                89660 non-null  datetime64[ns]\n",
      " 2   cvss                    89660 non-null  float64       \n",
      " 3   cwe_code                89660 non-null  int64         \n",
      " 4   cwe_name                89660 non-null  object        \n",
      " 5   summary                 89660 non-null  object        \n",
      " 6   access_authentication   88776 non-null  object        \n",
      " 7   access_complexity       88776 non-null  object        \n",
      " 8   access_vector           88776 non-null  object        \n",
      " 9   impact_availability     88776 non-null  object        \n",
      " 10  impact_confidentiality  88776 non-null  object        \n",
      " 11  impact_integrity        88776 non-null  object        \n",
      "dtypes: datetime64[ns](2), float64(1), int64(1), object(8)\n",
      "memory usage: 8.9+ MB\n"
     ]
    }
   ],
   "execution_count": 44
  },
  {
   "metadata": {},
   "cell_type": "markdown",
   "source": "## 🧼 2. Handling Missing Data"
  },
  {
   "metadata": {
    "ExecuteTime": {
     "end_time": "2025-04-05T14:30:47.411836Z",
     "start_time": "2025-04-05T14:30:47.396662Z"
    }
   },
   "cell_type": "code",
   "source": [
    "missing_counts = df.isnull().sum()\n",
    "print(\"Missing Data Count:\\n\", missing_counts)"
   ],
   "outputs": [
    {
     "name": "stdout",
     "output_type": "stream",
     "text": [
      "Missing Data Count:\n",
      " mod_date                    0\n",
      "pub_date                    0\n",
      "cvss                        0\n",
      "cwe_code                    0\n",
      "cwe_name                    0\n",
      "summary                     0\n",
      "access_authentication     884\n",
      "access_complexity         884\n",
      "access_vector             884\n",
      "impact_availability       884\n",
      "impact_confidentiality    884\n",
      "impact_integrity          884\n",
      "dtype: int64\n"
     ]
    }
   ],
   "execution_count": 45
  },
  {
   "metadata": {},
   "cell_type": "markdown",
   "source": [
    "## **3. Probability Distribution & Descriptive Stats**\n",
    "\n",
    "### 🎯 Expected Value (Mean)"
   ]
  },
  {
   "metadata": {
    "ExecuteTime": {
     "end_time": "2025-04-05T14:30:47.450711Z",
     "start_time": "2025-04-05T14:30:47.427770Z"
    }
   },
   "cell_type": "code",
   "source": [
    "from scipy import stats\n",
    "\n",
    "# Convert the 'access_complexity' column to a list\n",
    "access_complexity_list = df['access_complexity'].tolist() \n",
    "\n",
    "# Unique access_complexity\n",
    "unique_access_complexity = list(set(access_complexity_list))\n",
    "print(\"\\nUnique access_complexity:\", unique_access_complexity)\n",
    "\n",
    "# Unique impact_availability\n",
    "access_impact_availability = df['impact_availability'].tolist() \n",
    "unique_impact_availability = list(set(access_impact_availability))\n",
    "print(\"\\nUnique impact_availability:\", unique_impact_availability)\n",
    "\n",
    "# Unique impact_confidentiality\n",
    "access_impact_confidentiality = df['impact_confidentiality'].tolist() \n",
    "unique_impact_confidentiality = list(set(access_impact_confidentiality))\n",
    "print(\"\\nUnique impact_confidentiality:\", unique_impact_confidentiality)\n",
    "\n",
    "# Unique impact_integrity\n",
    "access_impact_integrity  = df['impact_integrity'].tolist() \n",
    "unique_impact_integrity  = list(set(access_impact_integrity ))\n",
    "print(\"\\nUnique impact_integrity:\", unique_impact_integrity )\n",
    "\n",
    "# Min and Max of DataFrame columns\n",
    "print(\"Minimum values in each column:\")\n",
    "print(df.min(numeric_only=True))\n",
    "\n",
    "print(\"\\nMaximum values in each column:\")\n",
    "print(df.max(numeric_only=True))\n",
    "\n",
    "# Geometric Mean\n",
    "# Calculate the geometric mean of cvss\n",
    "geometric_mean_cvss = stats.gmean(df[\"cvss\"].dropna())\n",
    "print(f\"\\nGeometric Mean of cvss: {geometric_mean_cvss:.2f}\")\n",
    "\n",
    "# Calculate the geometric mean of cwe_code\n",
    "geometric_mean_cwe_code = stats.gmean(df[\"cwe_code\"].dropna())\n",
    "print(f\"\\nGeometric Mean of cwe_code: {geometric_mean_cwe_code:.2f}\")\n",
    "\n",
    "from scipy import stats\n",
    "\n",
    "# Min and Max of DataFrame columns\n",
    "print(\"Minimum values in each column:\")\n",
    "print(df.min(numeric_only=True))\n",
    "\n",
    "print(\"\\nMaximum values in each column:\")\n",
    "print(df.max(numeric_only=True))\n",
    "\n",
    "\n",
    "\n",
    "# Geometric Mean\n",
    "# Calculate the geometric mean of cvss\n",
    "geometric_mean_cvss = stats.gmean(df[\"cvss\"].dropna())\n",
    "print(f\"\\nGeometric Mean of cvss: {geometric_mean_cvss:.2f}\")\n",
    "\n",
    "\n"
   ],
   "outputs": [
    {
     "name": "stdout",
     "output_type": "stream",
     "text": [
      "\n",
      "Unique access_complexity: [nan, 'HIGH', 'LOW', 'MEDIUM']\n",
      "\n",
      "Unique impact_availability: ['PARTIAL', nan, 'NONE', 'COMPLETE']\n",
      "\n",
      "Unique impact_confidentiality: ['PARTIAL', nan, 'COMPLETE', 'NONE']\n",
      "\n",
      "Unique impact_integrity: ['PARTIAL', nan, 'NONE', 'COMPLETE']\n",
      "Minimum values in each column:\n",
      "cvss        0.0\n",
      "cwe_code    1.0\n",
      "dtype: float64\n",
      "\n",
      "Maximum values in each column:\n",
      "cvss          10.0\n",
      "cwe_code    1188.0\n",
      "dtype: float64\n",
      "\n",
      "Geometric Mean of cvss: 0.00\n",
      "\n",
      "Geometric Mean of cwe_code: 134.06\n",
      "Minimum values in each column:\n",
      "cvss        0.0\n",
      "cwe_code    1.0\n",
      "dtype: float64\n",
      "\n",
      "Maximum values in each column:\n",
      "cvss          10.0\n",
      "cwe_code    1188.0\n",
      "dtype: float64\n",
      "\n",
      "Geometric Mean of cvss: 0.00\n"
     ]
    }
   ],
   "execution_count": 46
  },
  {
   "metadata": {},
   "cell_type": "markdown",
   "source": "### 📈 Variance and Standard Deviation"
  },
  {
   "metadata": {
    "ExecuteTime": {
     "end_time": "2025-04-05T14:30:47.454586Z",
     "start_time": "2025-04-05T14:30:47.453553Z"
    }
   },
   "cell_type": "code",
   "source": "",
   "outputs": [],
   "execution_count": null
  },
  {
   "metadata": {},
   "cell_type": "markdown",
   "source": [
    "\n",
    "\n",
    "\n",
    "\n",
    "### 📊 Distribution Shapes"
   ]
  },
  {
   "metadata": {
    "ExecuteTime": {
     "end_time": "2025-04-05T14:30:47.462653Z",
     "start_time": "2025-04-05T14:30:47.461349Z"
    }
   },
   "cell_type": "code",
   "source": "",
   "outputs": [],
   "execution_count": null
  },
  {
   "metadata": {},
   "cell_type": "markdown",
   "source": "## 📊 Visualizing Relationships\n"
  },
  {
   "metadata": {
    "ExecuteTime": {
     "end_time": "2025-04-05T14:30:47.469788Z",
     "start_time": "2025-04-05T14:30:47.468634Z"
    }
   },
   "cell_type": "code",
   "source": "",
   "outputs": [],
   "execution_count": null
  }
 ],
 "metadata": {
  "kernelspec": {
   "display_name": "base",
   "language": "python",
   "name": "python3"
  },
  "language_info": {
   "codemirror_mode": {
    "name": "ipython",
    "version": 3
   },
   "file_extension": ".py",
   "mimetype": "text/x-python",
   "name": "python",
   "nbconvert_exporter": "python",
   "pygments_lexer": "ipython3",
   "version": "3.12.7"
  }
 },
 "nbformat": 4,
 "nbformat_minor": 2
}
