{
 "cells": [
  {
   "cell_type": "code",
   "metadata": {
    "ExecuteTime": {
     "end_time": "2025-03-24T19:03:46.669606Z",
     "start_time": "2025-03-24T19:03:45.082824Z"
    }
   },
   "source": [
    "%pip install pandas numpy plotly kagglehub"
   ],
   "outputs": [
    {
     "name": "stdout",
     "output_type": "stream",
     "text": [
      "Requirement already satisfied: pandas in /opt/anaconda3/lib/python3.12/site-packages (2.2.3)\r\n",
      "Requirement already satisfied: numpy in /opt/anaconda3/lib/python3.12/site-packages (1.26.4)\r\n",
      "Requirement already satisfied: plotly in /opt/anaconda3/lib/python3.12/site-packages (5.22.0)\r\n",
      "Requirement already satisfied: kagglehub in /opt/anaconda3/lib/python3.12/site-packages (0.2.7)\r\n",
      "Requirement already satisfied: python-dateutil>=2.8.2 in /opt/anaconda3/lib/python3.12/site-packages (from pandas) (2.9.0.post0)\r\n",
      "Requirement already satisfied: pytz>=2020.1 in /opt/anaconda3/lib/python3.12/site-packages (from pandas) (2024.1)\r\n",
      "Requirement already satisfied: tzdata>=2022.7 in /opt/anaconda3/lib/python3.12/site-packages (from pandas) (2023.3)\r\n",
      "Requirement already satisfied: tenacity>=6.2.0 in /opt/anaconda3/lib/python3.12/site-packages (from plotly) (8.2.2)\r\n",
      "Requirement already satisfied: packaging in /opt/anaconda3/lib/python3.12/site-packages (from plotly) (23.2)\r\n",
      "Requirement already satisfied: requests in /opt/anaconda3/lib/python3.12/site-packages (from kagglehub) (2.32.2)\r\n",
      "Requirement already satisfied: tqdm in /opt/anaconda3/lib/python3.12/site-packages (from kagglehub) (4.66.4)\r\n",
      "Requirement already satisfied: six>=1.5 in /opt/anaconda3/lib/python3.12/site-packages (from python-dateutil>=2.8.2->pandas) (1.16.0)\r\n",
      "Requirement already satisfied: charset-normalizer<4,>=2 in /opt/anaconda3/lib/python3.12/site-packages (from requests->kagglehub) (2.0.4)\r\n",
      "Requirement already satisfied: idna<4,>=2.5 in /opt/anaconda3/lib/python3.12/site-packages (from requests->kagglehub) (3.7)\r\n",
      "Requirement already satisfied: urllib3<3,>=1.21.1 in /opt/anaconda3/lib/python3.12/site-packages (from requests->kagglehub) (2.2.2)\r\n",
      "Requirement already satisfied: certifi>=2017.4.17 in /opt/anaconda3/lib/python3.12/site-packages (from requests->kagglehub) (2025.1.31)\r\n",
      "Note: you may need to restart the kernel to use updated packages.\n"
     ]
    }
   ],
   "execution_count": 2
  },
  {
   "cell_type": "code",
   "metadata": {
    "ExecuteTime": {
     "end_time": "2025-03-24T19:03:47.421995Z",
     "start_time": "2025-03-24T19:03:46.676232Z"
    }
   },
   "source": [
    "import pandas as pd\n",
    "import numpy as np\n",
    "import plotly.express as px\n",
    "import kagglehub\n",
    "from os.path import join as path_join"
   ],
   "outputs": [],
   "execution_count": 3
  },
  {
   "cell_type": "code",
   "metadata": {
    "ExecuteTime": {
     "end_time": "2025-03-24T19:03:49.586870Z",
     "start_time": "2025-03-24T19:03:47.428742Z"
    }
   },
   "source": [
    "data_root = kagglehub.dataset_download(\"andrewkronser/cve-common-vulnerabilities-and-exposures\")"
   ],
   "outputs": [
    {
     "name": "stdout",
     "output_type": "stream",
     "text": [
      "Warning: Looks like you're using an outdated `kagglehub` version, please consider updating (latest version: 0.3.10)\n",
      "Downloading from https://www.kaggle.com/api/v1/datasets/download/andrewkronser/cve-common-vulnerabilities-and-exposures?dataset_version_number=3...\n"
     ]
    },
    {
     "name": "stderr",
     "output_type": "stream",
     "text": [
      "100%|██████████| 8.94M/8.94M [00:01<00:00, 8.79MB/s]"
     ]
    },
    {
     "name": "stdout",
     "output_type": "stream",
     "text": [
      "Extracting model files...\n"
     ]
    },
    {
     "name": "stderr",
     "output_type": "stream",
     "text": [
      "\n"
     ]
    }
   ],
   "execution_count": 4
  },
  {
   "cell_type": "code",
   "metadata": {
    "ExecuteTime": {
     "end_time": "2025-03-24T19:03:49.909242Z",
     "start_time": "2025-03-24T19:03:49.601772Z"
    }
   },
   "source": [
    "df = pd.read_csv(path_join(data_root, 'cve.csv'), header=0, index_col=0)\n",
    "df.mod_date = pd.to_datetime(df.mod_date)\n",
    "df.pub_date = pd.to_datetime(df.pub_date)\n",
    "\n",
    "df.info()"
   ],
   "outputs": [
    {
     "name": "stdout",
     "output_type": "stream",
     "text": [
      "<class 'pandas.core.frame.DataFrame'>\n",
      "Index: 89660 entries, CVE-2019-16548 to CVE-2007-3004\n",
      "Data columns (total 12 columns):\n",
      " #   Column                  Non-Null Count  Dtype         \n",
      "---  ------                  --------------  -----         \n",
      " 0   mod_date                89660 non-null  datetime64[ns]\n",
      " 1   pub_date                89660 non-null  datetime64[ns]\n",
      " 2   cvss                    89660 non-null  float64       \n",
      " 3   cwe_code                89660 non-null  int64         \n",
      " 4   cwe_name                89660 non-null  object        \n",
      " 5   summary                 89660 non-null  object        \n",
      " 6   access_authentication   88776 non-null  object        \n",
      " 7   access_complexity       88776 non-null  object        \n",
      " 8   access_vector           88776 non-null  object        \n",
      " 9   impact_availability     88776 non-null  object        \n",
      " 10  impact_confidentiality  88776 non-null  object        \n",
      " 11  impact_integrity        88776 non-null  object        \n",
      "dtypes: datetime64[ns](2), float64(1), int64(1), object(8)\n",
      "memory usage: 8.9+ MB\n"
     ]
    }
   ],
   "execution_count": 5
  },
  {
   "metadata": {
    "ExecuteTime": {
     "end_time": "2025-03-24T19:03:49.978902Z",
     "start_time": "2025-03-24T19:03:49.974913Z"
    }
   },
   "cell_type": "code",
   "source": [
    "\n",
    "\n",
    "# Min and Max of DataFrame columns\n",
    "print(\"Minimum values in each column:\")\n",
    "print(df.min(numeric_only=True))\n",
    "\n",
    "print(\"\\nMaximum values in each column:\")\n",
    "print(df.max(numeric_only=True))"
   ],
   "outputs": [
    {
     "name": "stdout",
     "output_type": "stream",
     "text": [
      "Minimum values in each column:\n",
      "cvss        0.0\n",
      "cwe_code    1.0\n",
      "dtype: float64\n",
      "\n",
      "Maximum values in each column:\n",
      "cvss          10.0\n",
      "cwe_code    1188.0\n",
      "dtype: float64\n"
     ]
    }
   ],
   "execution_count": 6
  }
 ],
 "metadata": {
  "kernelspec": {
   "display_name": "base",
   "language": "python",
   "name": "python3"
  },
  "language_info": {
   "codemirror_mode": {
    "name": "ipython",
    "version": 3
   },
   "file_extension": ".py",
   "mimetype": "text/x-python",
   "name": "python",
   "nbconvert_exporter": "python",
   "pygments_lexer": "ipython3",
   "version": "3.12.7"
  }
 },
 "nbformat": 4,
 "nbformat_minor": 2
}
